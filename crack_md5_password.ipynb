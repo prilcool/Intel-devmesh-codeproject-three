{
 "cells": [
  {
   "cell_type": "markdown",
   "metadata": {},
   "source": [
    "## Cracking MD5 based encrypted passwords using  DPC++\n",
    "\n",
    "The following code is part of our article submission to Codeproject & INTEL Devmesh.\n",
    "\n",
    "To read the article visit here :https://devmesh.intel.com/projects/data-security-use-oneapi-to-crack-insecure-passwords\n",
    "\n",
    "\n"
   ]
  },
  {
   "cell_type": "markdown",
   "metadata": {},
   "source": [
    "### To Build and Save The Code to the lab folder\n",
    "Select the grey cell below and click Run ▶ to compile and execute the code above:"
   ]
  },
  {
   "cell_type": "code",
   "execution_count": 3,
   "metadata": {},
   "outputs": [
    {
     "name": "stdout",
     "output_type": "stream",
     "text": [
      "Overwriting lab/crack_md5_password.cpp\n"
     ]
    }
   ],
   "source": [
    "%%writefile lab/crack_md5_password.cpp\n",
    "\n",
    "//==============================================================\n",
    "// Copyright © 2021 Intel Corporation\n",
    "// Author:Prilvesh Krishna\n",
    "// Email:prilcool@hotmail.com    \n",
    "// Linkedin:https://www.linkedin.com/in/prilvesh-k-4349ba54/\n",
    "// Date:03/02/2020    \n",
    "// SPDX-License-Identifier: MIT\n",
    "// =============================================================\n",
    "\n",
    "\n",
    "\n",
    "#include<CL/sycl.hpp>\n",
    "#include<array>\n",
    "#include<iostream>\n",
    "#include<cmath>\n",
    "#include<iomanip>\n",
    "#include<limits>\n",
    "#include <chrono>\n",
    "#include <vector>\n",
    "#include <string>\n",
    "#include \"md5.h\"\n",
    "\n",
    "using namespace sycl;\n",
    "\n",
    "\n",
    "\n",
    "int main() {\n",
    "    auto start_time = std::chrono::high_resolution_clock::now();\n",
    "\n",
    "    //the size of your insecure password  guess list\n",
    "    constexpr int N=4; \n",
    "    \n",
    "    //select device to perform operations with  we selected cpu_selector\n",
    "    \n",
    "    queue q(cpu_selector{});\n",
    "    \n",
    "    std::cout << \"Device: \" << q.get_device().get_info<info::device::name>() << std::endl;\n",
    "\n",
    "\n",
    "    // Allocate shared memory space \n",
    "      int*cracked_passwords=malloc_shared<int>(N, q); //to hold cracked passwords \n",
    "\n",
    "\n",
    "    // this are the names\n",
    "    const char *our_database_to_hack_usernames[]={\"Tommy\", \"Angelina\", \"Rick\", \"Donna\",\"Steve\",\"Kim\"};\n",
    "    \n",
    "    // this are the md5 hashed  passwords from the database this are user passwords that we will try and crack.\n",
    "     const char *our_database_to_hack[]={\"be6a7b58918d6a86dcd7165105a55735\",\"9c5e6de58e6d4db5b6407ff633a731ea\",\n",
    "                                         \"91f279d26889d5383b8e44a3b17126f6\",\"39efb1a1cb8b2ecb609016ccf672f2ba\",\"73b1766d87521e37862e2303a1e0b217\",\"05f4016d70e4c40860ae3698ccf6756b\"}; \n",
    "   \n",
    "    \n",
    "    // We load data into a array for ourlist of common insecure passwords ,this are our guesses\n",
    "     std::string insecure_password_list[]={\"stevey_wonder#54321\",\"Hockey_rocks_1234!\",\"Canada@7777$\",\"Welcome@2020$\",\"Pineapple@1234!\",\"Password_@1234!\"}; \n",
    "    \n",
    "    \n",
    "    // we convert each value of the list using MD5 alogrithm and so on example,\n",
    "    // std::string index_zero=md5(insecure_password_list[0]);\n",
    "    // std::cout<<\"An example of \"<<insecure_password_list[0] <<\" When MD5 hashed is \"<< index_zero<<std::endl;\n",
    "    \n",
    "    // so below is a preconverted MD5 list of the above loaded into an array .\n",
    "   const char *insecure_password_list_hashed[] = {\"e78258ed4cb53b88be9362fd439ded9d\",\"42d717e8f76610bee6a103559135c577\",\"3802627cb2fc0e1b993a636d229cfa3a\",\n",
    "                                                  \"05f4016d70e4c40860ae3698ccf6756b\",\n",
    "                                                  \"d6fc3939b3323b30564d01a44abb0bcb\",\"be6a7b58918d6a86dcd7165105a55735\"};\n",
    "   \n",
    "\n",
    "   //next we select a single password  md5 hash from our Database that we want to crack\n",
    "   // you can change the  user_index_from_databse value in this example between 0  to five  if you want to choose another user whose password you want to crack.\n",
    "    \n",
    "    int user_index_from_databse=5;\n",
    "    std::string user=our_database_to_hack_usernames[user_index_from_databse];\n",
    "    const char *password_to_crack=our_database_to_hack[user_index_from_databse];\n",
    "   \n",
    "    for (int i =0; i < N; i++) {\n",
    "        i=i;\n",
    "    \n",
    "    }\n",
    "\n",
    "    \n",
    "    //we begin the cracking by doing a comparison to see if our_password_guess matches  password_to_crack\n",
    "    // if our password matches it means its insecure and its index  stored into our cracked_passwords denoted by number 2. \n",
    "\n",
    "    \n",
    "    q.parallel_for(range<1>(N), [=](id<1> i) {   \n",
    "        const char *our_password_guess=insecure_password_list_hashed[i];\n",
    "       \n",
    "        if (strcmp(our_password_guess,password_to_crack) == 0){\n",
    "           cracked_passwords[i]=2;  //password found \n",
    "            \n",
    "        }\n",
    "        else{\n",
    "         cracked_passwords[i]=1;  //password not found \n",
    "        }\n",
    "        \n",
    "    }).wait();\n",
    "          \n",
    "\n",
    "    // now we output \n",
    "     int flag_no_password_cracked=0;\n",
    "      std::cout<<\"*********************************************\"<<std::endl;      \n",
    "\n",
    "    for (int i = 0; i < N; i++) {\n",
    "        if(cracked_passwords[i]==2){\n",
    "      std::cout<<\"Success !! Password Cracked At index \"<<i<<\" in common passwords list For Hash \"<<insecure_password_list_hashed[i]<<\" the password was \"<<insecure_password_list[i]<<std::endl; \n",
    "      std::cout<<\"Notify user \"<<user<<\" to change password immediatly as it's insecure\"<<std::endl; \n",
    "      flag_no_password_cracked=2;\n",
    "        }\n",
    "    }\n",
    "  \n",
    "    if(flag_no_password_cracked==0){\n",
    "        \n",
    "            std::cout<<\"Congrats password not cracked ,no insecure password found for user \"<<user<<std::endl;  \n",
    "            \n",
    "    }\n",
    "    \n",
    "\n",
    "    return 0;\n",
    "}\n",
    "\n",
    "\n",
    "\n",
    "\n",
    "\n",
    "\n",
    "\n"
   ]
  },
  {
   "cell_type": "code",
   "execution_count": null,
   "metadata": {},
   "outputs": [
    {
     "name": "stdout",
     "output_type": "stream",
     "text": [
      "Job has been submitted to Intel(R) DevCloud and will execute soon.\n",
      "\n",
      " If you do not see result in 60 seconds, please restart the Jupyter kernel:\n",
      " Kernel -> 'Restart Kernel and Clear All Outputs...' and then try again\n",
      "\n",
      "Job ID                    Name             User            Time Use S Queue\n",
      "------------------------- ---------------- --------------- -------- - -----\n",
      "797525.v-qsvr-1            ...ub-singleuser u60146          00:00:17 R jupyterhub     \n",
      "797548.v-qsvr-1            ...5_password.sh u60146                 0 Q batch          \n",
      "\n",
      "Waiting for Output ███████████████████"
     ]
    }
   ],
   "source": [
    "! chmod 755 q; chmod 755 crack_md5_password.sh;if [ -x \"$(command -v qsub)\" ]; then ./q crack_md5_password.sh; else ./crack_md5_password.sh; fi "
   ]
  },
  {
   "cell_type": "markdown",
   "metadata": {},
   "source": [
    "_If the Jupyter cells are not responsive or if they error out when you compile the code samples, please restart the Jupyter Kernel: \n",
    "\"Kernel->Restart Kernel and Clear All Outputs\" and compile the code samples again_"
   ]
  },
  {
   "cell_type": "code",
   "execution_count": null,
   "metadata": {},
   "outputs": [],
   "source": []
  }
 ],
 "metadata": {
  "kernelspec": {
   "display_name": "Python 3.7 (Intel® oneAPI)",
   "language": "python",
   "name": "c009-intel_distribution_of_python_3_oneapi-beta05-python"
  },
  "language_info": {
   "codemirror_mode": {
    "name": "ipython",
    "version": 3
   },
   "file_extension": ".py",
   "mimetype": "text/x-python",
   "name": "python",
   "nbconvert_exporter": "python",
   "pygments_lexer": "ipython3",
   "version": "3.7.9"
  },
  "toc": {
   "base_numbering": 1,
   "nav_menu": {},
   "number_sections": true,
   "sideBar": true,
   "skip_h1_title": false,
   "title_cell": "Table of Contents",
   "title_sidebar": "Contents",
   "toc_cell": false,
   "toc_position": {
    "height": "525.6px",
    "left": "28px",
    "top": "137.8px",
    "width": "301.109px"
   },
   "toc_section_display": true,
   "toc_window_display": true
  },
  "widgets": {
   "application/vnd.jupyter.widget-state+json": {
    "state": {},
    "version_major": 2,
    "version_minor": 0
   }
  }
 },
 "nbformat": 4,
 "nbformat_minor": 4
}
